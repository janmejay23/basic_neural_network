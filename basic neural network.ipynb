{
 "cells": [
  {
   "cell_type": "code",
   "execution_count": 13,
   "metadata": {},
   "outputs": [
    {
     "name": "stdout",
     "output_type": "stream",
     "text": [
      "Output After Training:\n",
      "[[ 0.00966449]\n",
      " [ 0.00786506]\n",
      " [ 0.99358898]\n",
      " [ 0.99211957]]\n"
     ]
    }
   ],
   "source": [
    "import numpy as np\n",
    "\n",
    " \n",
    "\n",
    "# sigmoid function\n",
    "\n",
    "def nonlin(x,deriv=False):\n",
    "\n",
    "    if(deriv==True):\n",
    "\n",
    "        return x*(1-x)\n",
    "\n",
    "    return 1/(1+np.exp(-x))\n",
    "\n",
    " \n",
    "\n",
    "# input dataset\n",
    "\n",
    "X = np.array([  [0,0,1],\n",
    "\n",
    "                [0,1,1],\n",
    "\n",
    "                [1,0,1],\n",
    "\n",
    "                [1,1,1] ])\n",
    "\n",
    "\n",
    "# output dataset           \n",
    "\n",
    "y = np.array([[0,0,1,1]]).T\n",
    "\n",
    " \n",
    "\n",
    "# seed random numbers to make calculation\n",
    "\n",
    "# deterministic (just a good practice)\n",
    "\n",
    "np.random.seed(1)\n",
    "\n",
    " \n",
    "\n",
    "# initialize weights randomly with mean 0\n",
    "\n",
    "syn0 = 2*np.random.random((3,1)) - 1\n",
    "\n",
    " \n",
    "for iter in xrange(10000):\n",
    "\n",
    " \n",
    "\n",
    "    #forward propagation\n",
    "\n",
    "    l0 = X\n",
    "\n",
    "    l1 = nonlin(np.dot(l0,syn0))\n",
    "\n",
    " \n",
    "\n",
    "    # how much did we miss?\n",
    "\n",
    "    l1_error = y - l1\n",
    "\n",
    " \n",
    "\n",
    "    # multiply how much we missed by the\n",
    "\n",
    "    # slope of the sigmoid at the values in l1\n",
    "\n",
    "    l1_delta = l1_error * nonlin(l1,True)\n",
    "\n",
    " \n",
    "\n",
    "    # update weights\n",
    "\n",
    "    syn0 += np.dot(l0.T,l1_delta)\n",
    " \n",
    "print \"Output After Training:\"\n",
    "\n",
    "print l1\n",
    "\n"
   ]
  },
  {
   "cell_type": "code",
   "execution_count": null,
   "metadata": {
    "collapsed": true
   },
   "outputs": [],
   "source": []
  },
  {
   "cell_type": "code",
   "execution_count": null,
   "metadata": {
    "collapsed": true
   },
   "outputs": [],
   "source": []
  },
  {
   "cell_type": "code",
   "execution_count": null,
   "metadata": {
    "collapsed": true
   },
   "outputs": [],
   "source": []
  }
 ],
 "metadata": {
  "kernelspec": {
   "display_name": "Python 2",
   "language": "python",
   "name": "python2"
  },
  "language_info": {
   "codemirror_mode": {
    "name": "ipython",
    "version": 2
   },
   "file_extension": ".py",
   "mimetype": "text/x-python",
   "name": "python",
   "nbconvert_exporter": "python",
   "pygments_lexer": "ipython2",
   "version": "2.7.12+"
  }
 },
 "nbformat": 4,
 "nbformat_minor": 2
}
